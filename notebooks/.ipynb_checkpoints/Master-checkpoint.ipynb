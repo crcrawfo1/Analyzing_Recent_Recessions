{
 "cells": [
  {
   "cell_type": "code",
   "execution_count": 1,
   "metadata": {},
   "outputs": [],
   "source": [
    "# import packages for alpaca, panadas and OS/dotenv to read .env file with api keys\n",
    "import os\n",
    "import pandas as pd\n",
    "import numpy as np\n",
    "import alpaca_trade_api as tradeapi\n",
    "# Load .env enviroment variables\n",
    "from dotenv import load_dotenv\n",
    "load_dotenv()\n",
    "import pathlib as Path\n",
    "#!pip install pandas-datareader\n",
    "import pandas_datareader as pdr\n",
    "from datetime import datetime\n",
    "\n",
    "%matplotlib inline"
   ]
  },
  {
   "cell_type": "code",
   "execution_count": 2,
   "metadata": {},
   "outputs": [],
   "source": [
    "# FOR HENNA ONLY\n",
    "# import os\n",
    "# os.chdir('/Users/hennasingh/Jupyter-Workspace/PROJECT1/Project1/notebooks')"
   ]
  },
  {
   "cell_type": "code",
   "execution_count": 3,
   "metadata": {},
   "outputs": [],
   "source": [
    "# set time frame\n",
    "timeframe = '1D'\n",
    "\n",
    "# start and 'end' date for covid stock market \n",
    "\n",
    "\n",
    "start_date_covid = datetime(2017,11,1)\n",
    "end_date_covid = datetime(2019,11,1)\n",
    "\n",
    "# start and end date for 2008 recession \n",
    "start_date_2008 = datetime(2005,7,1)\n",
    "end_date_2008 = datetime(2007,7,1)\n",
    "\n",
    "# set entertainment tickers (per industry)\n",
    "ent_tickers = ['IMAX','DIS','NFLX','CMCSA','SNE']\n",
    "fast_food_tickers = ['MCD','WEN','YUM','DPZ','JACK']\n",
    "tech_tickers = ['AMZN', 'AAPL', 'MSFT', 'GOOG', 'INTC']\n",
    "tickers_travel_airline = ['EXPE','BKNG','AAL','AAP','LUV']\n",
    "energy_tickers = ['XOM','BP','COP','CVX', 'TOT']\n",
    "\n",
    "# get stock data from covid\n",
    "entertainment_tickers_covid = pdr.DataReader(ent_tickers,'yahoo',start_date_covid,end_date_covid)\n",
    "fastfood_tickers_covid = pdr.DataReader(fast_food_tickers,'yahoo',start_date_covid,end_date_covid)\n",
    "covid_tech_ticker = pdr.DataReader(tech_tickers,'yahoo',start_date_covid,end_date_covid)\n",
    "tra_air_covid_ticker = pdr.DataReader(tickers_travel_airline,'yahoo',start_date_covid,end_date_covid)\n",
    "energy_covid_ticker = pdr.DataReader(energy_tickers,'yahoo',start_date_covid,end_date_covid)\n",
    "sp500_covid_ticker = pdr.DataReader('^GSPC','yahoo',start_date_covid,end_date_covid)\n",
    "\n",
    "\n",
    "# get stock data from 2008 recession\n",
    "entertainment_tickers_2008 = pdr.DataReader(ent_tickers,'yahoo',start_date_2008,end_date_2008)\n",
    "fastfood_tickers_2008 = pdr.DataReader(fast_food_tickers,'yahoo',start_date_2008,end_date_2008)\n",
    "tech_ticker2008 = pdr.DataReader(tech_tickers,'yahoo',start_date_2008,end_date_2008)\n",
    "tra_air_ticker2008 = pdr.DataReader(tickers_travel_airline,'yahoo',start_date_2008,end_date_2008)\n",
    "energy_ticker2008 = pdr.DataReader(energy_tickers,'yahoo',start_date_2008,end_date_2008)\n",
    "sp500_2008_ticker = pdr.DataReader('^GSPC','yahoo',start_date_2008,end_date_2008)\n",
    "\n"
   ]
  },
  {
   "cell_type": "code",
   "execution_count": 4,
   "metadata": {},
   "outputs": [],
   "source": [
    "# create new covid and 2008 dataframe to store ckosing prices of each stock\n",
    "\n",
    "ent_closingprices_covid = pd.DataFrame()\n",
    "covid_closingprices_ff= pd.DataFrame()\n",
    "covid_tech_closingprices = pd.DataFrame()\n",
    "covid_travel_closingprices = pd.DataFrame()\n",
    "energy_covid_closingprices = pd.DataFrame()\n",
    "sp500_covid_closingprices = pd.DataFrame()\n",
    "\n",
    "# get closing prices for all tickers (entertainment)\n",
    "for ticker in ent_tickers:\n",
    "    ent_closingprices_covid[ticker]=entertainment_tickers_covid['Adj Close'][ticker]\n",
    "\n",
    "# get closing prices for all tickers (fast food)\n",
    "for ticker in fast_food_tickers:\n",
    "    covid_closingprices_ff[ticker]=fastfood_tickers_covid['Adj Close'][ticker]\n",
    "    \n",
    "# get closing prices for all tickers (tech)\n",
    "for ticker in tech_tickers:\n",
    "    covid_tech_closingprices[ticker]=covid_tech_ticker['Adj Close'][ticker]\n",
    "    \n",
    "# get closing prices for all tickers (travel)\n",
    "for ticker in tickers_travel_airline:\n",
    "    covid_travel_closingprices[ticker]=tra_air_covid_ticker['Adj Close'][ticker]\n",
    "\n",
    "# get closing prices for all tickers (Energy)\n",
    "for ticker in energy_tickers:\n",
    "    energy_covid_closingprices[ticker]=energy_covid_ticker['Adj Close'][ticker]\n",
    "    \n",
    "sp500_covid_closingprices = sp500_covid_ticker['Adj Close']\n",
    "\n",
    "# drop time component on index\n",
    "ent_closingprices_covid.index = ent_closingprices_covid.index.date\n",
    "covid_closingprices_ff.index = covid_closingprices_ff.index.date\n",
    "covid_tech_closingprices.index = covid_tech_closingprices.index.date\n",
    "covid_travel_closingprices.index = covid_travel_closingprices.index.date\n",
    "energy_covid_closingprices.index = energy_covid_closingprices.index.date\n",
    "sp500_covid_closingprices.index = sp500_covid_closingprices.index.date\n"
   ]
  },
  {
   "cell_type": "code",
   "execution_count": 5,
   "metadata": {},
   "outputs": [],
   "source": [
    "ent_closingprices2008 = pd.DataFrame()\n",
    "closingprices2008_ff = pd.DataFrame()\n",
    "tech_closingprices2008 = pd.DataFrame()\n",
    "travel_closingprices2008 = pd.DataFrame()\n",
    "energy_closingprices2008 = pd.DataFrame()\n",
    "\n",
    "# get closing prices for all tickers (entertainment)\n",
    "for ticker in ent_tickers:\n",
    "    ent_closingprices2008[ticker]=entertainment_tickers_2008['Adj Close'][ticker]\n",
    "\n",
    "# get closing prices for all tickers (fast food)\n",
    "for ticker in fast_food_tickers:\n",
    "    closingprices2008_ff[ticker]=fastfood_tickers_2008['Adj Close'][ticker]\n",
    "\n",
    "# get closing prices for all tickers (tech)\n",
    "for ticker in tech_tickers:\n",
    "    tech_closingprices2008[ticker]=tech_ticker2008['Adj Close'][ticker]\n",
    "    \n",
    "# get closing prices for all tickers (travel)\n",
    "for ticker in tickers_travel_airline:\n",
    "    travel_closingprices2008[ticker]=tra_air_ticker2008['Adj Close'][ticker]\n",
    "    \n",
    "# get closing prices for all tickers (energy)\n",
    "for ticker in energy_tickers:\n",
    "    energy_closingprices2008[ticker]=energy_ticker2008['Adj Close'][ticker]\n",
    "    \n",
    "sp500_2008_closingprices = sp500_2008_ticker['Adj Close']\n",
    "    \n",
    "# drop time component on index\n",
    "ent_closingprices2008.index = ent_closingprices2008.index.date\n",
    "closingprices2008_ff.index = closingprices2008_ff.index.date\n",
    "tech_closingprices2008.index = tech_closingprices2008.index.date\n",
    "travel_closingprices2008.index = travel_closingprices2008.index.date\n",
    "energy_closingprices2008.index = energy_closingprices2008.index.date\n",
    "sp500_2008_closingprices.index = sp500_2008_closingprices.index.date\n"
   ]
  },
  {
   "cell_type": "code",
   "execution_count": 6,
   "metadata": {},
   "outputs": [],
   "source": [
    "# calculate daily returns for each timeframe (entertainment)\n",
    "ent_covid_dr = ent_closingprices_covid.pct_change().dropna()\n",
    "ent_returns2008 = ent_closingprices2008.pct_change().dropna()\n",
    "\n",
    "# calculate daily returns for each timeframe (fast food)\n",
    "ff_covid_dr = covid_closingprices_ff.pct_change().dropna()\n",
    "ff_returns2008 = closingprices2008_ff.pct_change().dropna()\n",
    "\n",
    "# calculate daily returns for each timeframe (fast food)\n",
    "tech_covid_dr = covid_tech_closingprices.pct_change().dropna()\n",
    "tech_returns2008 = tech_closingprices2008.pct_change().dropna()\n",
    "\n",
    "# calculate daily returns for each timeframe (Travel)\n",
    "travel_covid_dr = covid_travel_closingprices.pct_change().dropna()\n",
    "travel_returns2008 = travel_closingprices2008.pct_change().dropna()\n",
    "\n",
    "# calculate daily returns for each timeframe (Energy)\n",
    "energy_covid_dr = energy_covid_closingprices.pct_change().dropna()\n",
    "enerygy_returns2008 = energy_closingprices2008.pct_change().dropna()\n",
    "\n",
    "# calc daily returns for SP500\n",
    "covid_sp_returns = sp500_covid_closingprices.pct_change().dropna()\n",
    "SP2008_returns = sp500_2008_closingprices.pct_change().dropna()"
   ]
  },
  {
   "cell_type": "code",
   "execution_count": 7,
   "metadata": {},
   "outputs": [],
   "source": [
    "# optimal weights for COVID by industry\n",
    "# CODE FOR ALL WEIGHT OPTIMIZATION IN INDIVIDUAL INDUSTRY NOTEBOOKS\n",
    "weights_array_covid_ent = np.array([1.99037306e-04, 7.48042464e-03, 4.68559570e-01, 2.29580098e-02,5.00802959e-01])\n",
    "ff_covid_weights_array = np.array([0.0081001 , 0.02144947, 0.00317154, 0.44037344, 0.52690545])\n",
    "tech_covid_weights_array = np.array([0.70613507, 0.00239445, 0.13786249, 0.14385094, 0.00975704])\n",
    "ta_weights_array = np.array([0.61837201, 0.18266603, 0.02917101, 0.16262027, 0.00717068])\n",
    "nrg_covid_weights_array = np.array([0.00387665, 0.01551683, 0.78027557, 0.14089321, 0.05943774])\n",
    "\n",
    "# optimal weights for 2008 by industry\n",
    "weights_array_2008_ent = np.array([0.29430474, 0.16388926, 0.53320127, 0.00709684, 0.00150789])\n",
    "ff_2008_weights_array = np.array([0.51671353, 0.00217503, 0.42314488, 0.04618614, 0.01178043])\n",
    "tech_2008_weights_array = np.array([0.86397001, 0.02692074, 0.06883576, 0.01831173, 0.02196176])\n",
    "ta_weights_2008_array = np.array([0.00441766, 0.40000322, 0.07261973, 0.51761735, 0.00534204])\n",
    "nrg_2008_weights_array = np.array([0.06440511, 0.00259053, 0.00214815, 0.53930083, 0.39155538])"
   ]
  },
  {
   "cell_type": "code",
   "execution_count": 8,
   "metadata": {},
   "outputs": [],
   "source": [
    "# creating weighted returns of portfolios\n",
    "ent_2008_weight_ret = ent_returns2008.dot(weights_array_2008_ent)\n",
    "ff_2008_weight_ret = ff_returns2008.dot(ff_2008_weights_array)\n",
    "tech_2008_weight_ret = tech_returns2008.dot(tech_2008_weights_array)\n",
    "trans_2008_weight_ret = travel_returns2008.dot(ta_weights_2008_array)\n",
    "nrg_2008_weight_ret = enerygy_returns2008.dot(nrg_2008_weights_array)\n",
    "\n",
    "#NOW DO COVID\n",
    "ent_covid_weight_ret = ent_covid_dr.dot(weights_array_covid_ent)\n",
    "ff_covid_weight_ret = ff_covid_dr.dot(ff_covid_weights_array)\n",
    "tech_covid_weight_ret = tech_covid_dr.dot(tech_covid_weights_array)\n",
    "trans_covid_weight_ret = travel_covid_dr.dot(ta_weights_array)\n",
    "nrg_covid_weight_ret = energy_covid_dr.dot(nrg_covid_weights_array)"
   ]
  },
  {
   "cell_type": "code",
   "execution_count": 9,
   "metadata": {},
   "outputs": [],
   "source": [
    "#create weighted returns dataframes\n",
    "#START WITH 2008\n",
    "comb_2008_df = pd.DataFrame([ent_2008_weight_ret,ff_2008_weight_ret,tech_2008_weight_ret,trans_2008_weight_ret,nrg_2008_weight_ret,SP2008_returns])\n",
    "comb_2008_df = comb_2008_df.transpose()\n",
    "comb_2008_df.columns = ['Entertainment', 'Fast_Food', 'Tech', 'Transportation', 'Energy', 'S&P_500']\n",
    "\n",
    "#NOW DO COVID\n",
    "comb_covid_df = pd.DataFrame([ent_covid_weight_ret,ff_covid_weight_ret,tech_covid_weight_ret,trans_covid_weight_ret,nrg_covid_weight_ret,covid_sp_returns])\n",
    "comb_covid_df = comb_covid_df.transpose()\n",
    "comb_covid_df.columns = ['Entertainment', 'Fast_Food', 'Tech', 'Transportation', 'Energy', 'S&P_500']"
   ]
  },
  {
   "cell_type": "code",
   "execution_count": 10,
   "metadata": {},
   "outputs": [],
   "source": [
    "comb_2008_df.to_csv(\"../data/Clean_Data/combined_pre_2008.csv\", index=False)\n",
    "comb_covid_df.to_csv(\"../data/Clean_Data/combined_pre_covid.csv\", index=False)\n"
   ]
  },
  {
   "cell_type": "code",
   "execution_count": 11,
   "metadata": {},
   "outputs": [],
   "source": [
    "# Portfolio Variance COVID\n",
    "ent_portfolio_variance_covid = np.dot(weights_array_covid_ent.T,np.dot(ent_covid_dr.cov()*252,weights_array_covid_ent))\n",
    "ff_portfolio_variance_covid = np.dot(ff_covid_weights_array.T,np.dot(ff_covid_dr.cov()*252,ff_covid_weights_array))\n",
    "tech_portfolio_variance_covid = np.dot(tech_covid_weights_array.T,np.dot(tech_covid_dr.cov()*252,tech_covid_weights_array))\n",
    "ta_portfolio_variance_covid = np.dot(ta_weights_array.T,np.dot(travel_covid_dr.cov()*252,ta_weights_array))\n",
    "nrg_portfolio_variance_covid = np.dot(nrg_covid_weights_array.T,np.dot(energy_covid_dr.cov()*252,nrg_covid_weights_array))\n",
    "\n",
    "# Portfolio Variance 2008\n",
    "ent_portfolio_variance_2008 = np.dot(weights_array_2008_ent.T,np.dot(ent_returns2008.cov()*252,weights_array_2008_ent))\n",
    "ff_portfolio_variance_2008 = np.dot(ff_2008_weights_array.T,np.dot(ff_returns2008.cov()*252,ff_2008_weights_array))\n",
    "tech_portfolio_variance_2008 = np.dot(tech_2008_weights_array.T,np.dot(tech_returns2008.cov()*252,tech_2008_weights_array))\n",
    "ta_portfolio_variance_2008 = np.dot(ta_weights_2008_array.T,np.dot(travel_returns2008.cov()*252,ta_weights_2008_array))\n",
    "nrg_portfolio_variance_2008 = np.dot(nrg_2008_weights_array.T,np.dot(enerygy_returns2008.cov()*252,nrg_2008_weights_array))\n",
    "\n",
    "\n",
    "# Portfolio Volatility COVID\n",
    "ent_portfolio_volatility_covid = np.sqrt(np.dot(weights_array_covid_ent.T,np.dot(ent_covid_dr.cov()*252,weights_array_covid_ent)))\n",
    "ff_portfolio_volatility_covid = np.sqrt(np.dot(ff_covid_weights_array.T,np.dot(ff_covid_dr.cov()*252,ff_covid_weights_array)))\n",
    "tech_portfolio_volatility_covid = np.sqrt(np.dot(tech_covid_weights_array.T,np.dot(tech_covid_dr.cov()*252,tech_covid_weights_array)))\n",
    "ta_portfolio_volatility_covid = np.sqrt(np.dot(ta_weights_array.T,np.dot(travel_covid_dr.cov()*252,ta_weights_array)))\n",
    "nrg_portfolio_volatility_covid = np.sqrt(np.dot(nrg_covid_weights_array.T,np.dot(energy_covid_dr.cov()*252,nrg_covid_weights_array)))\n",
    "\n",
    "# Portfolio Volatility 2008\n",
    "ent_portfolio_volatility_2008 = np.sqrt(np.dot(weights_array_2008_ent.T,np.dot(ent_returns2008.cov()*252,weights_array_2008_ent)))\n",
    "ff_portfolio_volatility_2008 = np.sqrt(np.dot(ff_2008_weights_array.T,np.dot(ff_returns2008.cov()*252,ff_2008_weights_array)))\n",
    "tech_portfolio_volatility_2008 = np.sqrt(np.dot(tech_2008_weights_array.T,np.dot(tech_returns2008.cov()*252,tech_2008_weights_array)))\n",
    "ta_portfolio_volatility_2008 = np.sqrt(np.dot(ta_weights_2008_array.T,np.dot(travel_returns2008.cov()*252,ta_weights_2008_array)))\n",
    "nrg_portfolio_volatility_2008 = np.sqrt(np.dot(nrg_2008_weights_array.T,np.dot(enerygy_returns2008.cov()*252,nrg_2008_weights_array)))"
   ]
  },
  {
   "cell_type": "code",
   "execution_count": 12,
   "metadata": {},
   "outputs": [
    {
     "name": "stdout",
     "output_type": "stream",
     "text": [
      "Entertainment Industry COVID Portfolio Variance: 0.08\n",
      "Entertainment Industry 2008 Portfolio Variance: 0.091\n",
      "Fast Food Industry 2008 Portfolio Variance: 0.048\n",
      "Fast Food Industry COVID Portfolio Variance: 0.031\n",
      "Technology Industry COVID Portfolio Variance: 0.073\n",
      "Technology Industry 2008 Portfolio Variance: 0.142\n",
      "Travel/Airlines Industry COVID Portfolio Variance: 0.044\n",
      "Travel/Airlines Industry 2008 Portfolio Variance: 0.058\n",
      "Energy Industry COVID Portfolio Variance: 0.065\n",
      "Energy Industry 2008 Portfolio Variance: 0.035\n"
     ]
    }
   ],
   "source": [
    "print(f\"Entertainment Industry COVID Portfolio Variance: {round(ent_portfolio_variance_covid,3)}\")\n",
    "\n",
    "print(f\"Entertainment Industry 2008 Portfolio Variance: {round(ent_portfolio_variance_2008,3)}\")\n",
    "\n",
    "print(f\"Fast Food Industry 2008 Portfolio Variance: {round(ff_portfolio_variance_covid,3)}\")\n",
    "\n",
    "print(f\"Fast Food Industry COVID Portfolio Variance: {round(ff_portfolio_variance_2008,3)}\")\n",
    "\n",
    "print(f\"Technology Industry COVID Portfolio Variance: {round(tech_portfolio_variance_covid,3)}\")\n",
    "\n",
    "print(f\"Technology Industry 2008 Portfolio Variance: {round(tech_portfolio_variance_2008,3)}\")\n",
    "\n",
    "print(f\"Travel/Airlines Industry COVID Portfolio Variance: {round(ta_portfolio_variance_covid,3)}\")\n",
    "\n",
    "print(f\"Travel/Airlines Industry 2008 Portfolio Variance: {round(ta_portfolio_variance_2008,3)}\")\n",
    "\n",
    "print(f\"Energy Industry COVID Portfolio Variance: {round(nrg_portfolio_variance_covid,3)}\")\n",
    "\n",
    "print(f\"Energy Industry 2008 Portfolio Variance: {round(nrg_portfolio_variance_2008,3)}\")"
   ]
  },
  {
   "cell_type": "code",
   "execution_count": 13,
   "metadata": {},
   "outputs": [
    {
     "name": "stdout",
     "output_type": "stream",
     "text": [
      "Entertainment Industry COVID Portfolio Volatility: 0.283\n",
      "Entertainment Industry 2008 Portfolio Volatility: 0.301\n",
      "Fast Food Industry 2008 Portfolio Volatility: 0.218\n",
      "Fast Food Industry COVID Portfolio Volatility: 0.176\n",
      "Technology Industry COVID Portfolio Volatility: 0.271\n",
      "Technology Industry 2008 Portfolio Volatility: 0.377\n",
      "Travel/Airlines Industry COVID Portfolio Volatility: 0.21\n",
      "Travel/Airlines Industry 2008 Portfolio Volatility: 0.24\n",
      "Energy Industry COVID Portfolio Volatility: 0.255\n",
      "Energy Industry 2008 Portfolio Volatility: 0.188\n"
     ]
    }
   ],
   "source": [
    "print(f\"Entertainment Industry COVID Portfolio Volatility: {round(ent_portfolio_volatility_covid,3)}\")\n",
    "\n",
    "print(f\"Entertainment Industry 2008 Portfolio Volatility: {round(ent_portfolio_volatility_2008,3)}\")\n",
    "\n",
    "print(f\"Fast Food Industry 2008 Portfolio Volatility: {round(ff_portfolio_volatility_covid,3)}\")\n",
    "\n",
    "print(f\"Fast Food Industry COVID Portfolio Volatility: {round(ff_portfolio_volatility_2008,3)}\")\n",
    "\n",
    "print(f\"Technology Industry COVID Portfolio Volatility: {round(tech_portfolio_volatility_covid,3)}\")\n",
    "\n",
    "print(f\"Technology Industry 2008 Portfolio Volatility: {round(tech_portfolio_volatility_2008,3)}\")\n",
    "\n",
    "print(f\"Travel/Airlines Industry COVID Portfolio Volatility: {round(ta_portfolio_volatility_covid,3)}\")\n",
    "\n",
    "print(f\"Travel/Airlines Industry 2008 Portfolio Volatility: {round(ta_portfolio_volatility_2008,3)}\")\n",
    "\n",
    "print(f\"Energy Industry COVID Portfolio Volatility: {round(nrg_portfolio_volatility_covid,3)}\")\n",
    "\n",
    "print(f\"Energy Industry 2008 Portfolio Volatility: {round(nrg_portfolio_volatility_2008,3)}\")"
   ]
  },
  {
   "cell_type": "markdown",
   "metadata": {},
   "source": [
    "## Conclusions Based on Volatility and Variance\n",
    "Need to add some in here"
   ]
  },
  {
   "cell_type": "markdown",
   "metadata": {},
   "source": [
    "# EVERYTHING FROM HERE LOWER CONNOR ADDED ON 12.11 THIS WILL RELY ON DATA FROM THE ACTUAL RECESSIONS, UNLIKE EVERYTHING PRIOR THAT RELIED ON DATA LEADING UP TO THE RECESSIONS. IF YOU RUN CELLS BELOW THIS, THE STOCK DATA WILL BE OVERWRITTEN"
   ]
  },
  {
   "cell_type": "code",
   "execution_count": 14,
   "metadata": {},
   "outputs": [],
   "source": [
    "#Pulling data \n",
    "# set time frame\n",
    "timeframe = '1D'\n",
    "\n",
    "# start and 'end' date for covid stock market \n",
    "\n",
    "\n",
    "start_date_during_covid = datetime(2019,11,1)\n",
    "end_date_during_covid = datetime(2020,11,1)\n",
    "\n",
    "# start and end date for 2008 recession \n",
    "start_date_during_2008 = datetime(2007,7,1)\n",
    "end_date_during_2008 = datetime(2009,7,1)\n",
    "\n",
    "# get stock data from covid\n",
    "entertainment_tickers_during_covid = pdr.DataReader(ent_tickers,'yahoo',start_date_during_covid,end_date_during_covid)\n",
    "fastfood_tickers_during_covid = pdr.DataReader(fast_food_tickers,'yahoo',start_date_during_covid,end_date_during_covid)\n",
    "during_covid_tech_ticker = pdr.DataReader(tech_tickers,'yahoo',start_date_during_covid,end_date_during_covid)\n",
    "tra_air_during_covid_ticker = pdr.DataReader(tickers_travel_airline,'yahoo',start_date_during_covid,end_date_during_covid)\n",
    "energy_during_covid_ticker = pdr.DataReader(energy_tickers,'yahoo',start_date_during_covid,end_date_during_covid)\n",
    "sp500_during_covid_ticker = pdr.DataReader('^GSPC','yahoo',start_date_during_covid,end_date_during_covid)\n",
    "\n",
    "# get stock data from 2008 recession\n",
    "entertainment_tickers_during_2008 = pdr.DataReader(ent_tickers,'yahoo',start_date_during_2008,end_date_during_2008)\n",
    "fastfood_tickers_during_2008 = pdr.DataReader(fast_food_tickers,'yahoo',start_date_during_2008,end_date_during_2008)\n",
    "tech_ticker_during_2008 = pdr.DataReader(tech_tickers,'yahoo',start_date_during_2008,end_date_during_2008)\n",
    "tra_air_ticker_during_2008 = pdr.DataReader(tickers_travel_airline,'yahoo',start_date_during_2008,end_date_during_2008)\n",
    "energy_ticker_during_2008 = pdr.DataReader(energy_tickers,'yahoo',start_date_during_2008,end_date_during_2008)\n",
    "sp500_during_2008_ticker = pdr.DataReader('^GSPC','yahoo',start_date_during_2008,end_date_during_2008)"
   ]
  },
  {
   "cell_type": "code",
   "execution_count": 15,
   "metadata": {},
   "outputs": [],
   "source": [
    "# create new covid and 2008 dataframe to store closing prices of each stock\n",
    "\n",
    "ent_closingprices_during_covid = pd.DataFrame()\n",
    "during_covid_closingprices_ff= pd.DataFrame()\n",
    "during_covid_tech_closingprices = pd.DataFrame()\n",
    "during_covid_travel_closingprices = pd.DataFrame()\n",
    "energy_during_covid_closingprices = pd.DataFrame()\n",
    "\n",
    "# get closing prices for all tickers (entertainment)\n",
    "for ticker in ent_tickers:\n",
    "    ent_closingprices_during_covid[ticker]=entertainment_tickers_during_covid['Adj Close'][ticker]\n",
    "\n",
    "# get closing prices for all tickers (fast food)\n",
    "for ticker in fast_food_tickers:\n",
    "    during_covid_closingprices_ff[ticker]=fastfood_tickers_during_covid['Adj Close'][ticker]\n",
    "    \n",
    "# get closing prices for all tickers (tech)\n",
    "for ticker in tech_tickers:\n",
    "    during_covid_tech_closingprices[ticker]=during_covid_tech_ticker['Adj Close'][ticker]\n",
    "    \n",
    "# get closing prices for all tickers (travel)\n",
    "for ticker in tickers_travel_airline:\n",
    "    during_covid_travel_closingprices[ticker]=tra_air_during_covid_ticker['Adj Close'][ticker]\n",
    "\n",
    "# get closing prices for all tickers (Energy)\n",
    "for ticker in energy_tickers:\n",
    "    energy_during_covid_closingprices[ticker]=energy_during_covid_ticker['Adj Close'][ticker]\n",
    "    \n",
    "# get closing prices for S&P500\n",
    "sp500_during_covid_closingprices = sp500_during_covid_ticker['Adj Close']\n",
    "\n",
    "# drop time component on index\n",
    "ent_closingprices_during_covid.index = ent_closingprices_during_covid.index.date\n",
    "during_covid_closingprices_ff.index = during_covid_closingprices_ff.index.date\n",
    "during_covid_tech_closingprices.index = during_covid_tech_closingprices.index.date\n",
    "during_covid_travel_closingprices.index = during_covid_travel_closingprices.index.date\n",
    "energy_during_covid_closingprices.index = energy_during_covid_closingprices.index.date\n",
    "sp500_during_covid_closingprices.index = sp500_during_covid_closingprices.index.date"
   ]
  },
  {
   "cell_type": "code",
   "execution_count": 16,
   "metadata": {},
   "outputs": [],
   "source": [
    "#2008 CLOSING PRICES\n",
    "ent_closingprices_during_2008 = pd.DataFrame()\n",
    "closingprices_during_2008_ff = pd.DataFrame()\n",
    "tech_closingprice_during_2008 = pd.DataFrame()\n",
    "travel_closingprices_during_2008 = pd.DataFrame()\n",
    "energy_closingprices_during_2008 = pd.DataFrame()\n",
    "\n",
    "# get closing prices for all tickers (entertainment)\n",
    "for ticker in ent_tickers:\n",
    "    ent_closingprices_during_2008[ticker]=entertainment_tickers_during_2008['Adj Close'][ticker]\n",
    "\n",
    "# get closing prices for all tickers (fast food)\n",
    "for ticker in fast_food_tickers:\n",
    "    closingprices_during_2008_ff[ticker]=fastfood_tickers_during_2008['Adj Close'][ticker]\n",
    "\n",
    "# get closing prices for all tickers (tech)\n",
    "for ticker in tech_tickers:\n",
    "    tech_closingprice_during_2008[ticker]=tech_ticker_during_2008['Adj Close'][ticker]\n",
    "    \n",
    "# get closing prices for all tickers (travel)\n",
    "for ticker in tickers_travel_airline:\n",
    "    travel_closingprices_during_2008[ticker]=tra_air_ticker_during_2008['Adj Close'][ticker]\n",
    "    \n",
    "# get closing prices for all tickers (energy)\n",
    "for ticker in energy_tickers:\n",
    "    energy_closingprices_during_2008[ticker]=energy_ticker_during_2008['Adj Close'][ticker]\n",
    "    \n",
    "# get closing prices for S&P500\n",
    "sp500_during_2008_closingprices = sp500_during_2008_ticker['Adj Close']\n",
    "    \n",
    "# drop time component on index\n",
    "ent_closingprices_during_2008.index = ent_closingprices_during_2008.index.date\n",
    "closingprices_during_2008_ff.index = closingprices_during_2008_ff.index.date\n",
    "tech_closingprice_during_2008.index = tech_closingprice_during_2008.index.date\n",
    "travel_closingprices_during_2008.index = travel_closingprices_during_2008.index.date\n",
    "energy_closingprices_during_2008.index = energy_closingprices_during_2008.index.date\n",
    "sp500_during_2008_closingprices.index = sp500_during_2008_closingprices.index.date"
   ]
  },
  {
   "cell_type": "code",
   "execution_count": 17,
   "metadata": {},
   "outputs": [],
   "source": [
    "# calculate daily returns for each timeframe (entertainment)\n",
    "ent_during_covid_dr = ent_closingprices_during_covid.pct_change().dropna()\n",
    "ent_returns_during_2008 = ent_closingprices_during_2008.pct_change().dropna()\n",
    "\n",
    "# calculate daily returns for each timeframe (fast food)\n",
    "ff_during_covid_dr = during_covid_closingprices_ff.pct_change().dropna()\n",
    "ff_returns_during_2008 = closingprices_during_2008_ff.pct_change().dropna()\n",
    "\n",
    "# calculate daily returns for each timeframe (fast food)\n",
    "tech_during_covid_dr = during_covid_tech_closingprices.pct_change().dropna()\n",
    "tech_returns_during_2008 = tech_closingprice_during_2008.pct_change().dropna()\n",
    "\n",
    "# calculate daily returns for each timeframe (Travel)\n",
    "travel_during_covid_dr = during_covid_travel_closingprices.pct_change().dropna()\n",
    "travel_returns_during_2008 = travel_closingprices_during_2008.pct_change().dropna()\n",
    "\n",
    "# calculate daily returns for each timeframe (Energy)\n",
    "energy_during_covid_dr = energy_during_covid_closingprices.pct_change().dropna()\n",
    "enerygy_returns_during_2008 = energy_closingprices_during_2008.pct_change().dropna()\n",
    "\n",
    "#calculate daily returns for each timeframe (S&P500)\n",
    "sp500_during_covid_dr = sp500_during_covid_closingprices.pct_change().dropna()\n",
    "sp500_during_2008_dr = sp500_during_2008_closingprices.pct_change().dropna()"
   ]
  },
  {
   "cell_type": "code",
   "execution_count": 18,
   "metadata": {},
   "outputs": [],
   "source": [
    "#Calculate the weighted returns of each portfolio\n",
    "#START WITH 2008\n",
    "ent_d_2008_weight_ret = ent_returns_during_2008.dot(weights_array_2008_ent)\n",
    "ff_d_2008_weight_ret = ff_returns_during_2008.dot(ff_2008_weights_array)\n",
    "tech_d_2008_weight_ret = tech_returns_during_2008.dot(tech_2008_weights_array)\n",
    "trans_d_2008_weight_ret = travel_returns_during_2008.dot(ta_weights_2008_array)\n",
    "nrg_d_2008_weight_ret = enerygy_returns_during_2008.dot(nrg_2008_weights_array)\n",
    "\n",
    "#NOW DO COVID\n",
    "ent_d_covid_weight_ret = ent_during_covid_dr.dot(weights_array_covid_ent)\n",
    "ff_d_covid_weight_ret = ff_during_covid_dr.dot(ff_covid_weights_array)\n",
    "tech_d_covid_weight_ret = tech_during_covid_dr.dot(tech_covid_weights_array)\n",
    "trans_d_covid_weight_ret = travel_during_covid_dr.dot(ta_weights_array)\n",
    "nrg_d_covid_weight_ret = energy_during_covid_dr.dot(nrg_covid_weights_array)\n"
   ]
  },
  {
   "cell_type": "code",
   "execution_count": 19,
   "metadata": {},
   "outputs": [],
   "source": [
    "#create weighted returns dataframes\n",
    "#START WITH 2008\n",
    "comb_d_2008_df = pd.DataFrame([ent_d_2008_weight_ret,ff_d_2008_weight_ret,tech_d_2008_weight_ret,trans_d_2008_weight_ret,nrg_d_2008_weight_ret,sp500_during_2008_dr])\n",
    "comb_d_2008_df = comb_d_2008_df.transpose()\n",
    "comb_d_2008_df.columns = ['Entertainment', 'Fast_Food', 'Tech', 'Transportation', 'Energy', 'S&P_500']\n",
    "\n",
    "#NOW DO COVID\n",
    "comb_d_covid_df = pd.DataFrame([ent_d_covid_weight_ret,ff_d_covid_weight_ret,tech_d_covid_weight_ret,trans_d_covid_weight_ret,nrg_d_covid_weight_ret,sp500_during_covid_dr])\n",
    "comb_d_covid_df = comb_d_covid_df.transpose()\n",
    "comb_d_covid_df.columns = ['Entertainment', 'Fast_Food', 'Tech', 'Transportation', 'Energy', 'S&P_500']"
   ]
  },
  {
   "cell_type": "code",
   "execution_count": 20,
   "metadata": {},
   "outputs": [],
   "source": [
    "# export above data frames as csvs\n",
    "comb_d_2008_df.to_csv(\"../data/Clean_Data/combined_d_2008.csv\", index=False)"
   ]
  },
  {
   "cell_type": "code",
   "execution_count": 21,
   "metadata": {},
   "outputs": [],
   "source": [
    "comb_d_covid_df.to_csv(\"../data/Clean_Data/combined_d_COVID.csv\", index=False)"
   ]
  },
  {
   "cell_type": "markdown",
   "metadata": {},
   "source": [
    "# The above dataframes should be exported as csvs so that the below can be done in the pyviz environment"
   ]
  },
  {
   "cell_type": "markdown",
   "metadata": {},
   "source": [
    "# Time for some usable data and charts"
   ]
  },
  {
   "cell_type": "code",
   "execution_count": 22,
   "metadata": {},
   "outputs": [
    {
     "data": {
      "text/plain": [
       "S&P_500           0.102830\n",
       "Fast_Food         0.175632\n",
       "Energy            0.187644\n",
       "Transportation    0.239959\n",
       "Entertainment     0.300908\n",
       "Tech              0.377075\n",
       "dtype: float64"
      ]
     },
     "execution_count": 22,
     "metadata": {},
     "output_type": "execute_result"
    }
   ],
   "source": [
    "#TIME TO CALCULATE THE ANNUAL RISK DURING 2008\n",
    "annual_risk_2008 = comb_2008_df.std() * np.sqrt(252)\n",
    "annual_risk_2008 = annual_risk_2008.sort_values()\n",
    "annual_risk_2008"
   ]
  },
  {
   "cell_type": "markdown",
   "metadata": {},
   "source": [
    "### In 2008, Fast Food has the highest annual risk, Energy is the most risk averse. Each industry is considered riskier than the S&P500"
   ]
  },
  {
   "cell_type": "code",
   "execution_count": 23,
   "metadata": {},
   "outputs": [
    {
     "data": {
      "text/plain": [
       "S&P_500           0.149336\n",
       "Transportation    0.210389\n",
       "Fast_Food         0.218376\n",
       "Energy            0.254745\n",
       "Tech              0.270761\n",
       "Entertainment     0.282908\n",
       "dtype: float64"
      ]
     },
     "execution_count": 23,
     "metadata": {},
     "output_type": "execute_result"
    }
   ],
   "source": [
    "#NOW DO COVID\n",
    "annual_risk_covid = comb_covid_df.std() * np.sqrt(252)\n",
    "annual_risk_covid = annual_risk_covid.sort_values()\n",
    "annual_risk_covid"
   ]
  },
  {
   "cell_type": "markdown",
   "metadata": {},
   "source": [
    "### During COVID times, Energy has the highest annual risk, whereas Entertainment is the most risk averse. Only Entertainment is less risky than S&P500."
   ]
  },
  {
   "cell_type": "code",
   "execution_count": 24,
   "metadata": {},
   "outputs": [
    {
     "data": {
      "text/plain": [
       "<matplotlib.axes._subplots.AxesSubplot at 0x7faec45dc510>"
      ]
     },
     "execution_count": 24,
     "metadata": {},
     "output_type": "execute_result"
    },
    {
     "data": {
      "image/png": "[encoded data removed]",
      "text/plain": [
       "<Figure size 432x288 with 1 Axes>"
      ]
     },
     "metadata": {
      "needs_background": "light"
     },
     "output_type": "display_data"
    }
   ],
   "source": [
    "#Rolling 21 day risk for 2008\n",
    "rolling_2008_risk21 = comb_2008_df.rolling(window=21).std()\n",
    "rolling_2008_risk21.plot(title = '21 Day Rolling Risk Analysis in 2008')"
   ]
  },
  {
   "cell_type": "markdown",
   "metadata": {},
   "source": [
    "### It would appear that each of these portfolios were very responsive to the S&P 500 during 2008. Especially between October of 2008 and January of 2009. Transportation, Fast Food and Entertainment all had various spikes that appear to be independent of the S&P500 though."
   ]
  },
  {
   "cell_type": "code",
   "execution_count": 25,
   "metadata": {},
   "outputs": [
    {
     "data": {
      "text/plain": [
       "<matplotlib.axes._subplots.AxesSubplot at 0x7faec4387210>"
      ]
     },
     "execution_count": 25,
     "metadata": {},
     "output_type": "execute_result"
    },
    {
     "data": {
      "image/png": "[encoded data removed]",
      "text/plain": [
       "<Figure size 432x288 with 1 Axes>"
      ]
     },
     "metadata": {
      "needs_background": "light"
     },
     "output_type": "display_data"
    }
   ],
   "source": [
    "#Rolling 21 day risk for covid\n",
    "rolling_covid_risk21 = comb_covid_df.rolling(window=21).std()\n",
    "rolling_covid_risk21.plot(title = '21 Day Rolling Risk Analysis during COVID')"
   ]
  },
  {
   "cell_type": "markdown",
   "metadata": {},
   "source": [
    "### Each of these industries appear to be heavily influenced by the S&P 500 during COVID. Energy, Fast Food, and Transportation all seemed to respond extremely heavily from March to May."
   ]
  },
  {
   "cell_type": "code",
   "execution_count": 26,
   "metadata": {},
   "outputs": [],
   "source": [
    "#Calculate Sharpe Ratios\n",
    "#2008\n",
    "sharpe_2008_rats = (comb_2008_df.mean() * 252) / (comb_2008_df.std() * np.sqrt(252))\n",
    "sharpe_2008_rats = sharpe_2008_rats.sort_values()\n",
    "\n",
    "#covid\n",
    "sharpe_covid_rats = (comb_covid_df.mean() * 252) / (comb_covid_df.std() * np.sqrt(252))\n",
    "sharpe_covid_rats = sharpe_covid_rats.sort_values()"
   ]
  },
  {
   "cell_type": "code",
   "execution_count": 27,
   "metadata": {},
   "outputs": [
    {
     "data": {
      "text/plain": [
       "<matplotlib.axes._subplots.AxesSubplot at 0x7faec48f0bd0>"
      ]
     },
     "execution_count": 27,
     "metadata": {},
     "output_type": "execute_result"
    },
    {
     "data": {
      "image/png": "[encoded data removed]",
      "text/plain": [
       "<Figure size 1080x720 with 1 Axes>"
      ]
     },
     "metadata": {
      "needs_background": "light"
     },
     "output_type": "display_data"
    }
   ],
   "source": [
    "sharpe_2008_rats.plot(kind = 'bar', figsize = (15,10) , title = '2008 Sharpe Ratios (During Recession)')"
   ]
  },
  {
   "cell_type": "markdown",
   "metadata": {},
   "source": [
    "### Every single portfolio has a better sharpe ratio than the S&P 500 during 2008. This means, the average of the returns weighted against the annualized risk were all higher for the portfolios than the S&P 500."
   ]
  },
  {
   "cell_type": "code",
   "execution_count": 28,
   "metadata": {},
   "outputs": [
    {
     "data": {
      "text/plain": [
       "<matplotlib.axes._subplots.AxesSubplot at 0x7faec49d5950>"
      ]
     },
     "execution_count": 28,
     "metadata": {},
     "output_type": "execute_result"
    },
    {
     "data": {
      "image/png": "[encoded data removed]",
      "text/plain": [
       "<Figure size 1080x720 with 1 Axes>"
      ]
     },
     "metadata": {
      "needs_background": "light"
     },
     "output_type": "display_data"
    }
   ],
   "source": [
    "sharpe_covid_rats.plot(kind = 'bar', figsize = (15,10) , title = 'COVID Sharpe Ratios (During Recession)')"
   ]
  },
  {
   "cell_type": "markdown",
   "metadata": {},
   "source": [
    "### Energy and Transportation have worse sharpe ratios than the S&P 500. Fast Food, Entertainment and Tech have better average returns weighted against their risk than the S&P 500."
   ]
  },
  {
   "cell_type": "code",
   "execution_count": 29,
   "metadata": {},
   "outputs": [
    {
     "data": {
      "text/html": [
       "<style  type=\"text/css\" >\n",
       "    #T_829287f8_3d8b_11eb_95c6_dca90487e67arow0_col0 {\n",
       "            background-color:  #023858;\n",
       "            color:  #f1f1f1;\n",
       "        }    #T_829287f8_3d8b_11eb_95c6_dca90487e67arow0_col1 {\n",
       "            background-color:  #f2ecf5;\n",
       "            color:  #000000;\n",
       "        }    #T_829287f8_3d8b_11eb_95c6_dca90487e67arow0_col2 {\n",
       "            background-color:  #8fb4d6;\n",
       "            color:  #000000;\n",
       "        }    #T_829287f8_3d8b_11eb_95c6_dca90487e67arow0_col3 {\n",
       "            background-color:  #fff7fb;\n",
       "            color:  #000000;\n",
       "        }    #T_829287f8_3d8b_11eb_95c6_dca90487e67arow0_col4 {\n",
       "            background-color:  #f8f1f8;\n",
       "            color:  #000000;\n",
       "        }    #T_829287f8_3d8b_11eb_95c6_dca90487e67arow0_col5 {\n",
       "            background-color:  #f8f1f8;\n",
       "            color:  #000000;\n",
       "        }    #T_829287f8_3d8b_11eb_95c6_dca90487e67arow1_col0 {\n",
       "            background-color:  #b4c4df;\n",
       "            color:  #000000;\n",
       "        }    #T_829287f8_3d8b_11eb_95c6_dca90487e67arow1_col1 {\n",
       "            background-color:  #023858;\n",
       "            color:  #f1f1f1;\n",
       "        }    #T_829287f8_3d8b_11eb_95c6_dca90487e67arow1_col2 {\n",
       "            background-color:  #bdc8e1;\n",
       "            color:  #000000;\n",
       "        }    #T_829287f8_3d8b_11eb_95c6_dca90487e67arow1_col3 {\n",
       "            background-color:  #6da6cd;\n",
       "            color:  #000000;\n",
       "        }    #T_829287f8_3d8b_11eb_95c6_dca90487e67arow1_col4 {\n",
       "            background-color:  #b4c4df;\n",
       "            color:  #000000;\n",
       "        }    #T_829287f8_3d8b_11eb_95c6_dca90487e67arow1_col5 {\n",
       "            background-color:  #d6d6e9;\n",
       "            color:  #000000;\n",
       "        }    #T_829287f8_3d8b_11eb_95c6_dca90487e67arow2_col0 {\n",
       "            background-color:  #9ab8d8;\n",
       "            color:  #000000;\n",
       "        }    #T_829287f8_3d8b_11eb_95c6_dca90487e67arow2_col1 {\n",
       "            background-color:  #fff7fb;\n",
       "            color:  #000000;\n",
       "        }    #T_829287f8_3d8b_11eb_95c6_dca90487e67arow2_col2 {\n",
       "            background-color:  #023858;\n",
       "            color:  #f1f1f1;\n",
       "        }    #T_829287f8_3d8b_11eb_95c6_dca90487e67arow2_col3 {\n",
       "            background-color:  #eee9f3;\n",
       "            color:  #000000;\n",
       "        }    #T_829287f8_3d8b_11eb_95c6_dca90487e67arow2_col4 {\n",
       "            background-color:  #fff7fb;\n",
       "            color:  #000000;\n",
       "        }    #T_829287f8_3d8b_11eb_95c6_dca90487e67arow2_col5 {\n",
       "            background-color:  #fff7fb;\n",
       "            color:  #000000;\n",
       "        }    #T_829287f8_3d8b_11eb_95c6_dca90487e67arow3_col0 {\n",
       "            background-color:  #c6cce3;\n",
       "            color:  #000000;\n",
       "        }    #T_829287f8_3d8b_11eb_95c6_dca90487e67arow3_col1 {\n",
       "            background-color:  #69a5cc;\n",
       "            color:  #000000;\n",
       "        }    #T_829287f8_3d8b_11eb_95c6_dca90487e67arow3_col2 {\n",
       "            background-color:  #a1bbda;\n",
       "            color:  #000000;\n",
       "        }    #T_829287f8_3d8b_11eb_95c6_dca90487e67arow3_col3 {\n",
       "            background-color:  #023858;\n",
       "            color:  #f1f1f1;\n",
       "        }    #T_829287f8_3d8b_11eb_95c6_dca90487e67arow3_col4 {\n",
       "            background-color:  #89b1d4;\n",
       "            color:  #000000;\n",
       "        }    #T_829287f8_3d8b_11eb_95c6_dca90487e67arow3_col5 {\n",
       "            background-color:  #acc0dd;\n",
       "            color:  #000000;\n",
       "        }    #T_829287f8_3d8b_11eb_95c6_dca90487e67arow4_col0 {\n",
       "            background-color:  #fff7fb;\n",
       "            color:  #000000;\n",
       "        }    #T_829287f8_3d8b_11eb_95c6_dca90487e67arow4_col1 {\n",
       "            background-color:  #faf2f8;\n",
       "            color:  #000000;\n",
       "        }    #T_829287f8_3d8b_11eb_95c6_dca90487e67arow4_col2 {\n",
       "            background-color:  #fff7fb;\n",
       "            color:  #000000;\n",
       "        }    #T_829287f8_3d8b_11eb_95c6_dca90487e67arow4_col3 {\n",
       "            background-color:  #dddbec;\n",
       "            color:  #000000;\n",
       "        }    #T_829287f8_3d8b_11eb_95c6_dca90487e67arow4_col4 {\n",
       "            background-color:  #023858;\n",
       "            color:  #f1f1f1;\n",
       "        }    #T_829287f8_3d8b_11eb_95c6_dca90487e67arow4_col5 {\n",
       "            background-color:  #80aed2;\n",
       "            color:  #000000;\n",
       "        }    #T_829287f8_3d8b_11eb_95c6_dca90487e67arow5_col0 {\n",
       "            background-color:  #dbdaeb;\n",
       "            color:  #000000;\n",
       "        }    #T_829287f8_3d8b_11eb_95c6_dca90487e67arow5_col1 {\n",
       "            background-color:  #efe9f3;\n",
       "            color:  #000000;\n",
       "        }    #T_829287f8_3d8b_11eb_95c6_dca90487e67arow5_col2 {\n",
       "            background-color:  #dcdaeb;\n",
       "            color:  #000000;\n",
       "        }    #T_829287f8_3d8b_11eb_95c6_dca90487e67arow5_col3 {\n",
       "            background-color:  #d1d2e6;\n",
       "            color:  #000000;\n",
       "        }    #T_829287f8_3d8b_11eb_95c6_dca90487e67arow5_col4 {\n",
       "            background-color:  #4e9ac6;\n",
       "            color:  #000000;\n",
       "        }    #T_829287f8_3d8b_11eb_95c6_dca90487e67arow5_col5 {\n",
       "            background-color:  #023858;\n",
       "            color:  #f1f1f1;\n",
       "        }</style><table id=\"T_829287f8_3d8b_11eb_95c6_dca90487e67a\" ><thead>    <tr>        <th class=\"blank level0\" ></th>        <th class=\"col_heading level0 col0\" >Entertainment</th>        <th class=\"col_heading level0 col1\" >Fast_Food</th>        <th class=\"col_heading level0 col2\" >Tech</th>        <th class=\"col_heading level0 col3\" >Transportation</th>        <th class=\"col_heading level0 col4\" >Energy</th>        <th class=\"col_heading level0 col5\" >S&P_500</th>    </tr></thead><tbody>\n",
       "                <tr>\n",
       "                        <th id=\"T_829287f8_3d8b_11eb_95c6_dca90487e67alevel0_row0\" class=\"row_heading level0 row0\" >Entertainment</th>\n",
       "                        <td id=\"T_829287f8_3d8b_11eb_95c6_dca90487e67arow0_col0\" class=\"data row0 col0\" >1.000000</td>\n",
       "                        <td id=\"T_829287f8_3d8b_11eb_95c6_dca90487e67arow0_col1\" class=\"data row0 col1\" >0.299888</td>\n",
       "                        <td id=\"T_829287f8_3d8b_11eb_95c6_dca90487e67arow0_col2\" class=\"data row0 col2\" >0.372795</td>\n",
       "                        <td id=\"T_829287f8_3d8b_11eb_95c6_dca90487e67arow0_col3\" class=\"data row0 col3\" >0.244458</td>\n",
       "                        <td id=\"T_829287f8_3d8b_11eb_95c6_dca90487e67arow0_col4\" class=\"data row0 col4\" >-0.049862</td>\n",
       "                        <td id=\"T_829287f8_3d8b_11eb_95c6_dca90487e67arow0_col5\" class=\"data row0 col5\" >0.159430</td>\n",
       "            </tr>\n",
       "            <tr>\n",
       "                        <th id=\"T_829287f8_3d8b_11eb_95c6_dca90487e67alevel0_row1\" class=\"row_heading level0 row1\" >Fast_Food</th>\n",
       "                        <td id=\"T_829287f8_3d8b_11eb_95c6_dca90487e67arow1_col0\" class=\"data row1 col0\" >0.299888</td>\n",
       "                        <td id=\"T_829287f8_3d8b_11eb_95c6_dca90487e67arow1_col1\" class=\"data row1 col1\" >1.000000</td>\n",
       "                        <td id=\"T_829287f8_3d8b_11eb_95c6_dca90487e67arow1_col2\" class=\"data row1 col2\" >0.234182</td>\n",
       "                        <td id=\"T_829287f8_3d8b_11eb_95c6_dca90487e67arow1_col3\" class=\"data row1 col3\" >0.633373</td>\n",
       "                        <td id=\"T_829287f8_3d8b_11eb_95c6_dca90487e67arow1_col4\" class=\"data row1 col4\" >0.264015</td>\n",
       "                        <td id=\"T_829287f8_3d8b_11eb_95c6_dca90487e67arow1_col5\" class=\"data row1 col5\" >0.315025</td>\n",
       "            </tr>\n",
       "            <tr>\n",
       "                        <th id=\"T_829287f8_3d8b_11eb_95c6_dca90487e67alevel0_row2\" class=\"row_heading level0 row2\" >Tech</th>\n",
       "                        <td id=\"T_829287f8_3d8b_11eb_95c6_dca90487e67arow2_col0\" class=\"data row2 col0\" >0.372795</td>\n",
       "                        <td id=\"T_829287f8_3d8b_11eb_95c6_dca90487e67arow2_col1\" class=\"data row2 col1\" >0.234182</td>\n",
       "                        <td id=\"T_829287f8_3d8b_11eb_95c6_dca90487e67arow2_col2\" class=\"data row2 col2\" >1.000000</td>\n",
       "                        <td id=\"T_829287f8_3d8b_11eb_95c6_dca90487e67arow2_col3\" class=\"data row2 col3\" >0.328264</td>\n",
       "                        <td id=\"T_829287f8_3d8b_11eb_95c6_dca90487e67arow2_col4\" class=\"data row2 col4\" >-0.102012</td>\n",
       "                        <td id=\"T_829287f8_3d8b_11eb_95c6_dca90487e67arow2_col5\" class=\"data row2 col5\" >0.115971</td>\n",
       "            </tr>\n",
       "            <tr>\n",
       "                        <th id=\"T_829287f8_3d8b_11eb_95c6_dca90487e67alevel0_row3\" class=\"row_heading level0 row3\" >Transportation</th>\n",
       "                        <td id=\"T_829287f8_3d8b_11eb_95c6_dca90487e67arow3_col0\" class=\"data row3 col0\" >0.244458</td>\n",
       "                        <td id=\"T_829287f8_3d8b_11eb_95c6_dca90487e67arow3_col1\" class=\"data row3 col1\" >0.633373</td>\n",
       "                        <td id=\"T_829287f8_3d8b_11eb_95c6_dca90487e67arow3_col2\" class=\"data row3 col2\" >0.328264</td>\n",
       "                        <td id=\"T_829287f8_3d8b_11eb_95c6_dca90487e67arow3_col3\" class=\"data row3 col3\" >1.000000</td>\n",
       "                        <td id=\"T_829287f8_3d8b_11eb_95c6_dca90487e67arow3_col4\" class=\"data row3 col4\" >0.389477</td>\n",
       "                        <td id=\"T_829287f8_3d8b_11eb_95c6_dca90487e67arow3_col5\" class=\"data row3 col5\" >0.431875</td>\n",
       "            </tr>\n",
       "            <tr>\n",
       "                        <th id=\"T_829287f8_3d8b_11eb_95c6_dca90487e67alevel0_row4\" class=\"row_heading level0 row4\" >Energy</th>\n",
       "                        <td id=\"T_829287f8_3d8b_11eb_95c6_dca90487e67arow4_col0\" class=\"data row4 col0\" >-0.049862</td>\n",
       "                        <td id=\"T_829287f8_3d8b_11eb_95c6_dca90487e67arow4_col1\" class=\"data row4 col1\" >0.264015</td>\n",
       "                        <td id=\"T_829287f8_3d8b_11eb_95c6_dca90487e67arow4_col2\" class=\"data row4 col2\" >-0.102012</td>\n",
       "                        <td id=\"T_829287f8_3d8b_11eb_95c6_dca90487e67arow4_col3\" class=\"data row4 col3\" >0.389477</td>\n",
       "                        <td id=\"T_829287f8_3d8b_11eb_95c6_dca90487e67arow4_col4\" class=\"data row4 col4\" >1.000000</td>\n",
       "                        <td id=\"T_829287f8_3d8b_11eb_95c6_dca90487e67arow4_col5\" class=\"data row4 col5\" >0.533483</td>\n",
       "            </tr>\n",
       "            <tr>\n",
       "                        <th id=\"T_829287f8_3d8b_11eb_95c6_dca90487e67alevel0_row5\" class=\"row_heading level0 row5\" >S&P_500</th>\n",
       "                        <td id=\"T_829287f8_3d8b_11eb_95c6_dca90487e67arow5_col0\" class=\"data row5 col0\" >0.159430</td>\n",
       "                        <td id=\"T_829287f8_3d8b_11eb_95c6_dca90487e67arow5_col1\" class=\"data row5 col1\" >0.315025</td>\n",
       "                        <td id=\"T_829287f8_3d8b_11eb_95c6_dca90487e67arow5_col2\" class=\"data row5 col2\" >0.115971</td>\n",
       "                        <td id=\"T_829287f8_3d8b_11eb_95c6_dca90487e67arow5_col3\" class=\"data row5 col3\" >0.431875</td>\n",
       "                        <td id=\"T_829287f8_3d8b_11eb_95c6_dca90487e67arow5_col4\" class=\"data row5 col4\" >0.533483</td>\n",
       "                        <td id=\"T_829287f8_3d8b_11eb_95c6_dca90487e67arow5_col5\" class=\"data row5 col5\" >1.000000</td>\n",
       "            </tr>\n",
       "    </tbody></table>"
      ],
      "text/plain": [
       "<pandas.io.formats.style.Styler at 0x7faec4e26d50>"
      ]
     },
     "execution_count": 29,
     "metadata": {},
     "output_type": "execute_result"
    }
   ],
   "source": [
    "#2008 CORRELATION ANALYSIS\n",
    "correlation_2008 = rolling_2008_risk21.corr()\n",
    "correlation_2008.style.background_gradient()"
   ]
  },
  {
   "cell_type": "markdown",
   "metadata": {},
   "source": [
    "### Energy is most responsive to the S&P 500, Entertainment is least.  Energy and transportation are fairly correlated. As are tech and energy."
   ]
  },
  {
   "cell_type": "code",
   "execution_count": 30,
   "metadata": {},
   "outputs": [
    {
     "data": {
      "text/html": [
       "<style  type=\"text/css\" >\n",
       "    #T_82995e48_3d8b_11eb_95c6_dca90487e67arow0_col0 {\n",
       "            background-color:  #023858;\n",
       "            color:  #f1f1f1;\n",
       "        }    #T_82995e48_3d8b_11eb_95c6_dca90487e67arow0_col1 {\n",
       "            background-color:  #f5eff6;\n",
       "            color:  #000000;\n",
       "        }    #T_82995e48_3d8b_11eb_95c6_dca90487e67arow0_col2 {\n",
       "            background-color:  #045e94;\n",
       "            color:  #f1f1f1;\n",
       "        }    #T_82995e48_3d8b_11eb_95c6_dca90487e67arow0_col3 {\n",
       "            background-color:  #76aad0;\n",
       "            color:  #000000;\n",
       "        }    #T_82995e48_3d8b_11eb_95c6_dca90487e67arow0_col4 {\n",
       "            background-color:  #81aed2;\n",
       "            color:  #000000;\n",
       "        }    #T_82995e48_3d8b_11eb_95c6_dca90487e67arow0_col5 {\n",
       "            background-color:  #167bb6;\n",
       "            color:  #000000;\n",
       "        }    #T_82995e48_3d8b_11eb_95c6_dca90487e67arow1_col0 {\n",
       "            background-color:  #fff7fb;\n",
       "            color:  #000000;\n",
       "        }    #T_82995e48_3d8b_11eb_95c6_dca90487e67arow1_col1 {\n",
       "            background-color:  #023858;\n",
       "            color:  #f1f1f1;\n",
       "        }    #T_82995e48_3d8b_11eb_95c6_dca90487e67arow1_col2 {\n",
       "            background-color:  #fff7fb;\n",
       "            color:  #000000;\n",
       "        }    #T_82995e48_3d8b_11eb_95c6_dca90487e67arow1_col3 {\n",
       "            background-color:  #ebe6f2;\n",
       "            color:  #000000;\n",
       "        }    #T_82995e48_3d8b_11eb_95c6_dca90487e67arow1_col4 {\n",
       "            background-color:  #fff7fb;\n",
       "            color:  #000000;\n",
       "        }    #T_82995e48_3d8b_11eb_95c6_dca90487e67arow1_col5 {\n",
       "            background-color:  #fff7fb;\n",
       "            color:  #000000;\n",
       "        }    #T_82995e48_3d8b_11eb_95c6_dca90487e67arow2_col0 {\n",
       "            background-color:  #045e93;\n",
       "            color:  #f1f1f1;\n",
       "        }    #T_82995e48_3d8b_11eb_95c6_dca90487e67arow2_col1 {\n",
       "            background-color:  #f1ebf5;\n",
       "            color:  #000000;\n",
       "        }    #T_82995e48_3d8b_11eb_95c6_dca90487e67arow2_col2 {\n",
       "            background-color:  #023858;\n",
       "            color:  #f1f1f1;\n",
       "        }    #T_82995e48_3d8b_11eb_95c6_dca90487e67arow2_col3 {\n",
       "            background-color:  #9cb9d9;\n",
       "            color:  #000000;\n",
       "        }    #T_82995e48_3d8b_11eb_95c6_dca90487e67arow2_col4 {\n",
       "            background-color:  #7eadd1;\n",
       "            color:  #000000;\n",
       "        }    #T_82995e48_3d8b_11eb_95c6_dca90487e67arow2_col5 {\n",
       "            background-color:  #1379b5;\n",
       "            color:  #f1f1f1;\n",
       "        }    #T_82995e48_3d8b_11eb_95c6_dca90487e67arow3_col0 {\n",
       "            background-color:  #4c99c5;\n",
       "            color:  #000000;\n",
       "        }    #T_82995e48_3d8b_11eb_95c6_dca90487e67arow3_col1 {\n",
       "            background-color:  #b5c4df;\n",
       "            color:  #000000;\n",
       "        }    #T_82995e48_3d8b_11eb_95c6_dca90487e67arow3_col2 {\n",
       "            background-color:  #78abd0;\n",
       "            color:  #000000;\n",
       "        }    #T_82995e48_3d8b_11eb_95c6_dca90487e67arow3_col3 {\n",
       "            background-color:  #023858;\n",
       "            color:  #f1f1f1;\n",
       "        }    #T_82995e48_3d8b_11eb_95c6_dca90487e67arow3_col4 {\n",
       "            background-color:  #d5d5e8;\n",
       "            color:  #000000;\n",
       "        }    #T_82995e48_3d8b_11eb_95c6_dca90487e67arow3_col5 {\n",
       "            background-color:  #60a1ca;\n",
       "            color:  #000000;\n",
       "        }    #T_82995e48_3d8b_11eb_95c6_dca90487e67arow4_col0 {\n",
       "            background-color:  #8fb4d6;\n",
       "            color:  #000000;\n",
       "        }    #T_82995e48_3d8b_11eb_95c6_dca90487e67arow4_col1 {\n",
       "            background-color:  #fff7fb;\n",
       "            color:  #000000;\n",
       "        }    #T_82995e48_3d8b_11eb_95c6_dca90487e67arow4_col2 {\n",
       "            background-color:  #94b6d7;\n",
       "            color:  #000000;\n",
       "        }    #T_82995e48_3d8b_11eb_95c6_dca90487e67arow4_col3 {\n",
       "            background-color:  #fff7fb;\n",
       "            color:  #000000;\n",
       "        }    #T_82995e48_3d8b_11eb_95c6_dca90487e67arow4_col4 {\n",
       "            background-color:  #023858;\n",
       "            color:  #f1f1f1;\n",
       "        }    #T_82995e48_3d8b_11eb_95c6_dca90487e67arow4_col5 {\n",
       "            background-color:  #67a4cc;\n",
       "            color:  #000000;\n",
       "        }    #T_82995e48_3d8b_11eb_95c6_dca90487e67arow5_col0 {\n",
       "            background-color:  #056dab;\n",
       "            color:  #f1f1f1;\n",
       "        }    #T_82995e48_3d8b_11eb_95c6_dca90487e67arow5_col1 {\n",
       "            background-color:  #c9cee4;\n",
       "            color:  #000000;\n",
       "        }    #T_82995e48_3d8b_11eb_95c6_dca90487e67arow5_col2 {\n",
       "            background-color:  #056caa;\n",
       "            color:  #f1f1f1;\n",
       "        }    #T_82995e48_3d8b_11eb_95c6_dca90487e67arow5_col3 {\n",
       "            background-color:  #549cc7;\n",
       "            color:  #000000;\n",
       "        }    #T_82995e48_3d8b_11eb_95c6_dca90487e67arow5_col4 {\n",
       "            background-color:  #2a88bc;\n",
       "            color:  #000000;\n",
       "        }    #T_82995e48_3d8b_11eb_95c6_dca90487e67arow5_col5 {\n",
       "            background-color:  #023858;\n",
       "            color:  #f1f1f1;\n",
       "        }</style><table id=\"T_82995e48_3d8b_11eb_95c6_dca90487e67a\" ><thead>    <tr>        <th class=\"blank level0\" ></th>        <th class=\"col_heading level0 col0\" >Entertainment</th>        <th class=\"col_heading level0 col1\" >Fast_Food</th>        <th class=\"col_heading level0 col2\" >Tech</th>        <th class=\"col_heading level0 col3\" >Transportation</th>        <th class=\"col_heading level0 col4\" >Energy</th>        <th class=\"col_heading level0 col5\" >S&P_500</th>    </tr></thead><tbody>\n",
       "                <tr>\n",
       "                        <th id=\"T_82995e48_3d8b_11eb_95c6_dca90487e67alevel0_row0\" class=\"row_heading level0 row0\" >Entertainment</th>\n",
       "                        <td id=\"T_82995e48_3d8b_11eb_95c6_dca90487e67arow0_col0\" class=\"data row0 col0\" >1.000000</td>\n",
       "                        <td id=\"T_82995e48_3d8b_11eb_95c6_dca90487e67arow0_col1\" class=\"data row0 col1\" >0.244581</td>\n",
       "                        <td id=\"T_82995e48_3d8b_11eb_95c6_dca90487e67arow0_col2\" class=\"data row0 col2\" >0.890698</td>\n",
       "                        <td id=\"T_82995e48_3d8b_11eb_95c6_dca90487e67arow0_col3\" class=\"data row0 col3\" >0.683609</td>\n",
       "                        <td id=\"T_82995e48_3d8b_11eb_95c6_dca90487e67arow0_col4\" class=\"data row0 col4\" >0.570246</td>\n",
       "                        <td id=\"T_82995e48_3d8b_11eb_95c6_dca90487e67arow0_col5\" class=\"data row0 col5\" >0.825239</td>\n",
       "            </tr>\n",
       "            <tr>\n",
       "                        <th id=\"T_82995e48_3d8b_11eb_95c6_dca90487e67alevel0_row1\" class=\"row_heading level0 row1\" >Fast_Food</th>\n",
       "                        <td id=\"T_82995e48_3d8b_11eb_95c6_dca90487e67arow1_col0\" class=\"data row1 col0\" >0.244581</td>\n",
       "                        <td id=\"T_82995e48_3d8b_11eb_95c6_dca90487e67arow1_col1\" class=\"data row1 col1\" >1.000000</td>\n",
       "                        <td id=\"T_82995e48_3d8b_11eb_95c6_dca90487e67arow1_col2\" class=\"data row1 col2\" >0.264987</td>\n",
       "                        <td id=\"T_82995e48_3d8b_11eb_95c6_dca90487e67arow1_col3\" class=\"data row1 col3\" >0.456793</td>\n",
       "                        <td id=\"T_82995e48_3d8b_11eb_95c6_dca90487e67arow1_col4\" class=\"data row1 col4\" >0.191074</td>\n",
       "                        <td id=\"T_82995e48_3d8b_11eb_95c6_dca90487e67arow1_col5\" class=\"data row1 col5\" >0.410148</td>\n",
       "            </tr>\n",
       "            <tr>\n",
       "                        <th id=\"T_82995e48_3d8b_11eb_95c6_dca90487e67alevel0_row2\" class=\"row_heading level0 row2\" >Tech</th>\n",
       "                        <td id=\"T_82995e48_3d8b_11eb_95c6_dca90487e67arow2_col0\" class=\"data row2 col0\" >0.890698</td>\n",
       "                        <td id=\"T_82995e48_3d8b_11eb_95c6_dca90487e67arow2_col1\" class=\"data row2 col1\" >0.264987</td>\n",
       "                        <td id=\"T_82995e48_3d8b_11eb_95c6_dca90487e67arow2_col2\" class=\"data row2 col2\" >1.000000</td>\n",
       "                        <td id=\"T_82995e48_3d8b_11eb_95c6_dca90487e67arow2_col3\" class=\"data row2 col3\" >0.625323</td>\n",
       "                        <td id=\"T_82995e48_3d8b_11eb_95c6_dca90487e67arow2_col4\" class=\"data row2 col4\" >0.574462</td>\n",
       "                        <td id=\"T_82995e48_3d8b_11eb_95c6_dca90487e67arow2_col5\" class=\"data row2 col5\" >0.830614</td>\n",
       "            </tr>\n",
       "            <tr>\n",
       "                        <th id=\"T_82995e48_3d8b_11eb_95c6_dca90487e67alevel0_row3\" class=\"row_heading level0 row3\" >Transportation</th>\n",
       "                        <td id=\"T_82995e48_3d8b_11eb_95c6_dca90487e67arow3_col0\" class=\"data row3 col0\" >0.683609</td>\n",
       "                        <td id=\"T_82995e48_3d8b_11eb_95c6_dca90487e67arow3_col1\" class=\"data row3 col1\" >0.456793</td>\n",
       "                        <td id=\"T_82995e48_3d8b_11eb_95c6_dca90487e67arow3_col2\" class=\"data row3 col2\" >0.625323</td>\n",
       "                        <td id=\"T_82995e48_3d8b_11eb_95c6_dca90487e67arow3_col3\" class=\"data row3 col3\" >1.000000</td>\n",
       "                        <td id=\"T_82995e48_3d8b_11eb_95c6_dca90487e67arow3_col4\" class=\"data row3 col4\" >0.375575</td>\n",
       "                        <td id=\"T_82995e48_3d8b_11eb_95c6_dca90487e67arow3_col5\" class=\"data row3 col5\" >0.728980</td>\n",
       "            </tr>\n",
       "            <tr>\n",
       "                        <th id=\"T_82995e48_3d8b_11eb_95c6_dca90487e67alevel0_row4\" class=\"row_heading level0 row4\" >Energy</th>\n",
       "                        <td id=\"T_82995e48_3d8b_11eb_95c6_dca90487e67arow4_col0\" class=\"data row4 col0\" >0.570246</td>\n",
       "                        <td id=\"T_82995e48_3d8b_11eb_95c6_dca90487e67arow4_col1\" class=\"data row4 col1\" >0.191074</td>\n",
       "                        <td id=\"T_82995e48_3d8b_11eb_95c6_dca90487e67arow4_col2\" class=\"data row4 col2\" >0.574462</td>\n",
       "                        <td id=\"T_82995e48_3d8b_11eb_95c6_dca90487e67arow4_col3\" class=\"data row4 col3\" >0.375575</td>\n",
       "                        <td id=\"T_82995e48_3d8b_11eb_95c6_dca90487e67arow4_col4\" class=\"data row4 col4\" >1.000000</td>\n",
       "                        <td id=\"T_82995e48_3d8b_11eb_95c6_dca90487e67arow4_col5\" class=\"data row4 col5\" >0.720440</td>\n",
       "            </tr>\n",
       "            <tr>\n",
       "                        <th id=\"T_82995e48_3d8b_11eb_95c6_dca90487e67alevel0_row5\" class=\"row_heading level0 row5\" >S&P_500</th>\n",
       "                        <td id=\"T_82995e48_3d8b_11eb_95c6_dca90487e67arow5_col0\" class=\"data row5 col0\" >0.825239</td>\n",
       "                        <td id=\"T_82995e48_3d8b_11eb_95c6_dca90487e67arow5_col1\" class=\"data row5 col1\" >0.410148</td>\n",
       "                        <td id=\"T_82995e48_3d8b_11eb_95c6_dca90487e67arow5_col2\" class=\"data row5 col2\" >0.830614</td>\n",
       "                        <td id=\"T_82995e48_3d8b_11eb_95c6_dca90487e67arow5_col3\" class=\"data row5 col3\" >0.728980</td>\n",
       "                        <td id=\"T_82995e48_3d8b_11eb_95c6_dca90487e67arow5_col4\" class=\"data row5 col4\" >0.720440</td>\n",
       "                        <td id=\"T_82995e48_3d8b_11eb_95c6_dca90487e67arow5_col5\" class=\"data row5 col5\" >1.000000</td>\n",
       "            </tr>\n",
       "    </tbody></table>"
      ],
      "text/plain": [
       "<pandas.io.formats.style.Styler at 0x7faec4683610>"
      ]
     },
     "execution_count": 30,
     "metadata": {},
     "output_type": "execute_result"
    }
   ],
   "source": [
    "#COVID CORRELATION ANALYSIS\n",
    "correlation_covid = rolling_covid_risk21.corr()\n",
    "correlation_covid.style.background_gradient()"
   ]
  },
  {
   "cell_type": "markdown",
   "metadata": {},
   "source": [
    "### Again, energy is most heavily correlated to the S&P 500, followed closely by Fast Food. Tech is the least correlated to the S&P500, but I wouldn't call it un-correlated."
   ]
  },
  {
   "cell_type": "markdown",
   "metadata": {},
   "source": [
    "# I Will pick up here with calculating and plotting betas, but it is dinner time on Friday and I am very hungry. I feel like this has given us a good starting point for Saturday."
   ]
  },
  {
   "cell_type": "markdown",
   "metadata": {},
   "source": [
    "# Should we drop this stuff guys?"
   ]
  },
  {
   "cell_type": "code",
   "execution_count": 31,
   "metadata": {},
   "outputs": [],
   "source": [
    "# nrg weights array - covid\n",
    "\n",
    "# number_ports = 100000\n",
    "# nrg_covid_all_weights = np.zeros((number_ports, len(energy_covid_closingprices.columns)))\n",
    "# nrg_covid_returns_array = np.zeros(number_ports)\n",
    "# nrg_covid_volat_array = np.zeros(number_ports)\n",
    "# nrg_covid_sharpe_array = np.zeros(number_ports)\n",
    "                                 \n",
    "# for index in range(number_ports):\n",
    "#     weights = np.array(np.random.random(5))\n",
    "#     weights = weights/np.sum(weights)\n",
    "    \n",
    "#     nrg_covid_all_weights[index,:] = weights\n",
    "    \n",
    "#     nrg_covid_returns_array[index]= np.sum((energy_covid_dr.mean()*weights)*252)\n",
    "    \n",
    "#     nrg_covid_volat_array[index]=np.sqrt(np.dot(weights.T, np.dot(energy_covid_dr.cov()*252, weights)))\n",
    "    \n",
    "#     nrg_covid_sharpe_array[index]=nrg_covid_returns_array[index]/nrg_covid_volat_array[index]\n",
    "    "
   ]
  },
  {
   "cell_type": "code",
   "execution_count": 32,
   "metadata": {},
   "outputs": [],
   "source": [
    "# find shape weights by index - energy covid\n",
    "# nrg_covid_sharpe_array.max()\n",
    "\n",
    "# nrg_covid_max_shape = nrg_covid_sharpe_array.argmax()\n",
    "# nrg_covid_max_shape\n",
    "\n",
    "# nrg_covid_weights_array = nrg_covid_all_weights[nrg_covid_max_shape,:]\n",
    "# nrg_covid_weights_array"
   ]
  },
  {
   "cell_type": "code",
   "execution_count": 33,
   "metadata": {},
   "outputs": [],
   "source": [
    "# nrg weights array - 2008\n",
    "\n",
    "# number_ports = 100000\n",
    "# nrg_2008_all_weights = np.zeros((number_ports, len(energy_closingprices2008.columns)))\n",
    "# nrg_2008_returns_array = np.zeros(number_ports)\n",
    "# nrg_2008_volat_array = np.zeros(number_ports)\n",
    "# nrg_2008_sharpe_array = np.zeros(number_ports)\n",
    "                                 \n",
    "# for index in range(number_ports):\n",
    "#     weights = np.array(np.random.random(5))\n",
    "#     weights = weights/np.sum(weights)\n",
    "    \n",
    "#     nrg_2008_all_weights[index,:] = weights\n",
    "    \n",
    "#     nrg_2008_returns_array[index]= np.sum((enerygy_returns2008.mean()*weights)*252)\n",
    "    \n",
    "#     nrg_2008_volat_array[index]=np.sqrt(np.dot(weights.T, np.dot(enerygy_returns2008.cov()*252, weights)))\n",
    "    \n",
    "#     nrg_2008_sharpe_array[index]=nrg_2008_returns_array[index]/nrg_2008_volat_array[index]"
   ]
  },
  {
   "cell_type": "code",
   "execution_count": 34,
   "metadata": {},
   "outputs": [],
   "source": [
    "# find shape weights by index - energy 2008\n",
    "# nrg_2008_sharpe_array.max()\n",
    "\n",
    "# nrg_2008_max_shape = nrg_2008_sharpe_array.argmax()\n",
    "# nrg_2008_max_shape\n",
    "\n",
    "# nrg_2008_weights_array = nrg_2008_all_weights[nrg_2008_max_shape,:]\n",
    "# nrg_2008_weights_array"
   ]
  },
  {
   "cell_type": "code",
   "execution_count": null,
   "metadata": {},
   "outputs": [],
   "source": []
  },
  {
   "cell_type": "markdown",
   "metadata": {},
   "source": [
    "## volatility for 2008 & COVID\n",
    "* standard deviation\n",
    "* box & whisker plot?\n",
    "\n",
    "## Industries\n",
    "* Tech: AMD, AAPL, MSFT, GOOG, INTC\n",
    "* Entertainment: IMAX, DIS, NFLX, CNK, SNE\n",
    "* Fast Food/Restaurants: MCD, WEN, YUM, DPZ, CMG\n",
    "* Energy: XOM, BP, RDS, COP, CVX\n",
    "* Travel/Airlines: EXPE, BKNG, DAL, AAP, UAL"
   ]
  }
 ],
 "metadata": {
  "kernelspec": {
   "display_name": "Python [conda env:alpacaenv]",
   "language": "python",
   "name": "conda-env-alpacaenv-py"
  },
  "language_info": {
   "codemirror_mode": {
    "name": "ipython",
    "version": 3
   },
   "file_extension": ".py",
   "mimetype": "text/x-python",
   "name": "python",
   "nbconvert_exporter": "python",
   "pygments_lexer": "ipython3",
   "version": "3.7.7"
  }
 },
 "nbformat": 4,
 "nbformat_minor": 4
}
